{
  "nbformat": 4,
  "nbformat_minor": 0,
  "metadata": {
    "colab": {
      "name": "SYDE-675-FinalProject.ipynb",
      "provenance": []
    },
    "kernelspec": {
      "name": "python3",
      "display_name": "Python 3"
    },
    "language_info": {
      "name": "python"
    },
    "accelerator": "GPU"
  },
  "cells": [
    {
      "cell_type": "code",
      "source": [
        "cd /content/drive/MyDrive/unsup3d/pretrained"
      ],
      "metadata": {
        "colab": {
          "base_uri": "https://localhost:8080/"
        },
        "id": "RXDXbZDJ4v7e",
        "outputId": "1cc709d7-659e-4538-d205-a69e299bce48"
      },
      "execution_count": 13,
      "outputs": [
        {
          "output_type": "stream",
          "name": "stdout",
          "text": [
            "/content/drive/MyDrive/unsup3d/pretrained\n"
          ]
        }
      ]
    },
    {
      "cell_type": "code",
      "source": [
        "!sh download_pretrained_celeba.sh"
      ],
      "metadata": {
        "colab": {
          "base_uri": "https://localhost:8080/"
        },
        "id": "oxIoKwr36K7n",
        "outputId": "d47168c1-7530-43dc-bca6-1e12c97ae26b"
      },
      "execution_count": 19,
      "outputs": [
        {
          "output_type": "stream",
          "name": "stdout",
          "text": [
            "sh: 0: Can't open download_pretrained_celeba.sh\n"
          ]
        }
      ]
    },
    {
      "cell_type": "code",
      "execution_count": null,
      "metadata": {
        "id": "THcULriA1hnQ"
      },
      "outputs": [],
      "source": [
        "cd /content/drive/MyDrive/unsup3d"
      ]
    },
    {
      "cell_type": "code",
      "source": [
        "!pip install scikit-image matplotlib opencv2 moviepy pyyaml tensorboardX"
      ],
      "metadata": {
        "id": "Nlxdj7U73gGj"
      },
      "execution_count": null,
      "outputs": []
    },
    {
      "cell_type": "code",
      "source": [
        "!pip install neural_renderer_pytorch"
      ],
      "metadata": {
        "id": "jX_IckqJ7RPy"
      },
      "execution_count": null,
      "outputs": []
    },
    {
      "cell_type": "code",
      "source": [
        "!pip install facenet-pytorch"
      ],
      "metadata": {
        "colab": {
          "base_uri": "https://localhost:8080/"
        },
        "id": "k0u0uQgC24nt",
        "outputId": "4a1e58bd-f312-4c57-ded2-affe73ce2e84"
      },
      "execution_count": 4,
      "outputs": [
        {
          "output_type": "stream",
          "name": "stdout",
          "text": [
            "Collecting facenet-pytorch\n",
            "  Downloading facenet_pytorch-2.5.2-py3-none-any.whl (1.9 MB)\n",
            "\u001b[K     |████████████████████████████████| 1.9 MB 5.2 MB/s \n",
            "\u001b[?25hRequirement already satisfied: pillow in /usr/local/lib/python3.7/dist-packages (from facenet-pytorch) (7.1.2)\n",
            "Requirement already satisfied: torchvision in /usr/local/lib/python3.7/dist-packages (from facenet-pytorch) (0.11.1+cu111)\n",
            "Requirement already satisfied: numpy in /usr/local/lib/python3.7/dist-packages (from facenet-pytorch) (1.21.6)\n",
            "Requirement already satisfied: requests in /usr/local/lib/python3.7/dist-packages (from facenet-pytorch) (2.23.0)\n",
            "Requirement already satisfied: certifi>=2017.4.17 in /usr/local/lib/python3.7/dist-packages (from requests->facenet-pytorch) (2021.10.8)\n",
            "Requirement already satisfied: chardet<4,>=3.0.2 in /usr/local/lib/python3.7/dist-packages (from requests->facenet-pytorch) (3.0.4)\n",
            "Requirement already satisfied: idna<3,>=2.5 in /usr/local/lib/python3.7/dist-packages (from requests->facenet-pytorch) (2.10)\n",
            "Requirement already satisfied: urllib3!=1.25.0,!=1.25.1,<1.26,>=1.21.1 in /usr/local/lib/python3.7/dist-packages (from requests->facenet-pytorch) (1.24.3)\n",
            "Requirement already satisfied: torch==1.10.0 in /usr/local/lib/python3.7/dist-packages (from torchvision->facenet-pytorch) (1.10.0+cu111)\n",
            "Requirement already satisfied: typing-extensions in /usr/local/lib/python3.7/dist-packages (from torch==1.10.0->torchvision->facenet-pytorch) (4.1.1)\n",
            "Installing collected packages: facenet-pytorch\n",
            "Successfully installed facenet-pytorch-2.5.2\n"
          ]
        }
      ]
    },
    {
      "cell_type": "code",
      "source": [
        "!python -m demo.demo --input demo/images/human_face --result demo/results/human_face --checkpoint /content/drive/MyDrive/unsup3d/pretrained/pretrained_celeba/checkpoint030.pth"
      ],
      "metadata": {
        "colab": {
          "base_uri": "https://localhost:8080/"
        },
        "id": "aZVDg8Po3H_g",
        "outputId": "dafee0da-25e3-4e44-d70b-488aecbc04ee"
      },
      "execution_count": 5,
      "outputs": [
        {
          "output_type": "stream",
          "name": "stdout",
          "text": [
            "Loading checkpoint from /content/drive/MyDrive/unsup3d/pretrained/pretrained_celeba/checkpoint030.pth\n",
            "Traceback (most recent call last):\n",
            "  File \"/usr/lib/python3.7/runpy.py\", line 193, in _run_module_as_main\n",
            "    \"__main__\", mod_spec)\n",
            "  File \"/usr/lib/python3.7/runpy.py\", line 85, in _run_code\n",
            "    exec(code, run_globals)\n",
            "  File \"/content/drive/MyDrive/unsup3d/demo/demo.py\", line 280, in <module>\n",
            "    model = Demo(args)\n",
            "  File \"/content/drive/MyDrive/unsup3d/demo/demo.py\", line 53, in __init__\n",
            "    self.load_checkpoint()\n",
            "  File \"/content/drive/MyDrive/unsup3d/demo/demo.py\", line 80, in load_checkpoint\n",
            "    cp = torch.load(self.checkpoint_path, map_location=self.device)\n",
            "  File \"/usr/local/lib/python3.7/dist-packages/torch/serialization.py\", line 608, in load\n",
            "    return _legacy_load(opened_file, map_location, pickle_module, **pickle_load_args)\n",
            "  File \"/usr/local/lib/python3.7/dist-packages/torch/serialization.py\", line 787, in _legacy_load\n",
            "    result = unpickler.load()\n",
            "  File \"/content/drive/MyDrive/unsup3d/unsup3d/__init__.py\", line 3, in <module>\n",
            "    from .model import Unsup3D\n",
            "  File \"/content/drive/MyDrive/unsup3d/unsup3d/model.py\", line 9, in <module>\n",
            "    from .renderer import Renderer\n",
            "  File \"/content/drive/MyDrive/unsup3d/unsup3d/renderer/__init__.py\", line 1, in <module>\n",
            "    from .renderer import Renderer\n",
            "  File \"/content/drive/MyDrive/unsup3d/unsup3d/renderer/renderer.py\", line 3, in <module>\n",
            "    import neural_renderer as nr\n",
            "ModuleNotFoundError: No module named 'neural_renderer'\n"
          ]
        }
      ]
    }
  ]
}